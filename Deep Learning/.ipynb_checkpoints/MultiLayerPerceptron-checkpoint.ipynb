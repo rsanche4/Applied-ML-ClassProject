{
 "cells": [
  {
   "cell_type": "code",
   "execution_count": 1,
   "id": "77988866-88f9-4209-82c7-6d2d921cd441",
   "metadata": {},
   "outputs": [],
   "source": [
    "import matplotlib.pyplot as plt\n",
    "import pandas as pd"
   ]
  },
  {
   "cell_type": "code",
   "execution_count": 2,
   "id": "922eb173-f973-4df5-90d8-13bd1b4bd5e4",
   "metadata": {},
   "outputs": [],
   "source": [
    "\n",
    "hospital_readmissions_df = pd.read_excel(\"../Data/hospital_readmissions.xlsx\")\n",
    "\n",
    "diabetic_data_df = pd.read_csv(\"../Data/diabetes+130-us+hospitals+for+years+1999-2008/diabetic_data.csv\")\n",
    "\n",
    "Insurance_Outcomes_df = pd.read_excel(\"../Data/Insurance_Outcomes.xlsx\")\n"
   ]
  },
  {
   "cell_type": "markdown",
   "id": "2cc98d27-8006-486c-8e8c-fca9343d3c3b",
   "metadata": {},
   "source": [
    "# Hospitals Readmissions Bias Analysis"
   ]
  },
  {
   "cell_type": "code",
   "execution_count": 3,
   "id": "af301e7e-222d-495d-8256-e7cd97874e0e",
   "metadata": {},
   "outputs": [
    {
     "name": "stdout",
     "output_type": "stream",
     "text": [
      "Epoch 0 - Loss: 0.7034\n",
      "Epoch 100 - Loss: 0.6496\n",
      "Epoch 200 - Loss: 0.6408\n",
      "Epoch 300 - Loss: 0.6329\n",
      "Epoch 400 - Loss: 0.6244\n",
      "Epoch 500 - Loss: 0.6193\n",
      "Epoch 600 - Loss: 0.6120\n",
      "Epoch 700 - Loss: 0.6059\n",
      "Epoch 800 - Loss: 0.6026\n",
      "Epoch 900 - Loss: 0.5987\n",
      "\n",
      "AUC: 0.6318\n"
     ]
    }
   ],
   "source": [
    "import pandas as pd\n",
    "import numpy as np\n",
    "from sklearn.model_selection import train_test_split\n",
    "from sklearn.preprocessing import StandardScaler\n",
    "from sklearn.preprocessing import LabelEncoder\n",
    "\n",
    "# Assume you have this:\n",
    "df = hospital_readmissions_df.copy()\n",
    "\n",
    "# Binarize the target\n",
    "df['readmitted'] = df['readmitted'].apply(lambda x: 1 if x == 'yes' else 0)\n",
    "\n",
    "# Store target separately\n",
    "y = df['readmitted']\n",
    "X = df.drop(columns=['readmitted'])\n",
    "\n",
    "# Encode categorical columns\n",
    "cat_cols = X.select_dtypes(include=['object']).columns\n",
    "encoders = {}\n",
    "\n",
    "for col in cat_cols:\n",
    "    le = LabelEncoder()\n",
    "    X[col] = le.fit_transform(X[col].astype(str))\n",
    "    encoders[col] = le  # store if you want to decode later\n",
    "\n",
    "# Split\n",
    "X_train, X_test, y_train, y_test = train_test_split(X, y, test_size=0.2, stratify=y, random_state=42)\n",
    "\n",
    "# Scale numeric features\n",
    "scaler = StandardScaler()\n",
    "X_train_scaled = scaler.fit_transform(X_train)\n",
    "X_test_scaled = scaler.transform(X_test)\n",
    "\n",
    "import torch\n",
    "\n",
    "X_train_tensor = torch.tensor(X_train_scaled, dtype=torch.float32)\n",
    "y_train_tensor = torch.tensor(y_train.values, dtype=torch.float32).unsqueeze(1)\n",
    "\n",
    "X_test_tensor = torch.tensor(X_test_scaled, dtype=torch.float32)\n",
    "y_test_tensor = torch.tensor(y_test.values, dtype=torch.float32).unsqueeze(1)\n",
    "\n",
    "import torch.nn as nn\n",
    "import torch.optim as optim\n",
    "\n",
    "class MLP(nn.Module):\n",
    "    def __init__(self, input_dim):\n",
    "        super(MLP, self).__init__()\n",
    "        self.net = nn.Sequential(\n",
    "            nn.Linear(input_dim, 128),\n",
    "            nn.ReLU(),\n",
    "            nn.Dropout(0.3),\n",
    "            nn.Linear(128, 64),\n",
    "            nn.ReLU(),\n",
    "            nn.Linear(64, 1),\n",
    "            nn.Sigmoid()\n",
    "        )\n",
    "\n",
    "    def forward(self, x):\n",
    "        return self.net(x)\n",
    "\n",
    "model = MLP(input_dim=X_train_tensor.shape[1])\n",
    "criterion = nn.BCELoss()\n",
    "optimizer = optim.Adam(model.parameters(), lr=0.001)\n",
    "\n",
    "# Training loop\n",
    "for epoch in range(1000):\n",
    "    model.train()\n",
    "    optimizer.zero_grad()\n",
    "    outputs = model(X_train_tensor)\n",
    "    loss = criterion(outputs, y_train_tensor)\n",
    "    loss.backward()\n",
    "    optimizer.step()\n",
    "\n",
    "    if epoch % 100 == 0:\n",
    "        print(f\"Epoch {epoch} - Loss: {loss.item():.4f}\")\n",
    "\n",
    "from sklearn.metrics import roc_auc_score\n",
    "\n",
    "model.eval()\n",
    "with torch.no_grad():\n",
    "    preds = model(X_test_tensor).numpy().flatten()\n",
    "    auc = roc_auc_score(y_test, preds)\n",
    "    print(f\"\\nAUC: {auc:.4f}\")\n"
   ]
  },
  {
   "cell_type": "code",
   "execution_count": 4,
   "id": "9928272c-e86c-4a56-be49-2cab8f86ea70",
   "metadata": {},
   "outputs": [
    {
     "name": "stdout",
     "output_type": "stream",
     "text": [
      "age\n",
      "[40-50)     0.670124\n",
      "[50-60)     0.668118\n",
      "[60-70)     0.609635\n",
      "[70-80)     0.578358\n",
      "[80-90)     0.561030\n",
      "[90-100)    0.555556\n",
      "dtype: float64\n"
     ]
    },
    {
     "name": "stderr",
     "output_type": "stream",
     "text": [
      "C:\\Users\\rsanz\\AppData\\Local\\Temp\\ipykernel_7856\\1675552848.py:14: DeprecationWarning: DataFrameGroupBy.apply operated on the grouping columns. This behavior is deprecated, and in a future version of pandas the grouping columns will be excluded from the operation. Either pass `include_groups=False` to exclude the groupings or explicitly select the grouping columns after groupby to silence this warning.\n",
      "  accuracy_by_age = results_df.groupby('age').apply(lambda g: (g['true'] == g['pred']).mean())\n"
     ]
    }
   ],
   "source": [
    "model.eval()\n",
    "with torch.no_grad():\n",
    "    y_preds_nn = model(X_test_tensor).numpy().flatten()\n",
    "    y_preds_label = (y_preds_nn >= 0.5).astype(int)  # threshold at 0.5\n",
    "\n",
    "\n",
    "# Get original age values from the unprocessed DataFrame\n",
    "results_df = X_test.copy()\n",
    "results_df['age'] = hospital_readmissions_df.loc[X_test.index, 'age']\n",
    "results_df['true'] = y_test.values\n",
    "results_df['pred'] = y_preds_label\n",
    "\n",
    "\n",
    "accuracy_by_age = results_df.groupby('age').apply(lambda g: (g['true'] == g['pred']).mean())\n",
    "accuracy_by_age = accuracy_by_age.sort_index()\n",
    "\n",
    "print(accuracy_by_age)\n"
   ]
  },
  {
   "cell_type": "code",
   "execution_count": 5,
   "id": "8001adaa-2e9b-404e-8219-782b84d7ed07",
   "metadata": {},
   "outputs": [],
   "source": [
    "# So for this is a very similar finding we found for decision tree. Open the decision tree notebook and there is my summary as well just looking at these values\n"
   ]
  },
  {
   "cell_type": "markdown",
   "id": "9e5d3996-0f3e-41fc-9c07-c11c41b7824a",
   "metadata": {},
   "source": [
    "# Diabetes analysis for Bias"
   ]
  },
  {
   "cell_type": "code",
   "execution_count": null,
   "id": "1d1d26ce-8da1-42ca-8d5a-6d597520cdce",
   "metadata": {},
   "outputs": [],
   "source": []
  },
  {
   "cell_type": "markdown",
   "id": "034eb4b9-fdfc-49fa-99bf-925c735372b1",
   "metadata": {},
   "source": [
    "# Insurance Dataset bias analysis"
   ]
  },
  {
   "cell_type": "code",
   "execution_count": null,
   "id": "37f12215-7268-4843-8405-80034d6bc66f",
   "metadata": {},
   "outputs": [],
   "source": []
  }
 ],
 "metadata": {
  "kernelspec": {
   "display_name": "Python 3 (ipykernel)",
   "language": "python",
   "name": "python3"
  },
  "language_info": {
   "codemirror_mode": {
    "name": "ipython",
    "version": 3
   },
   "file_extension": ".py",
   "mimetype": "text/x-python",
   "name": "python",
   "nbconvert_exporter": "python",
   "pygments_lexer": "ipython3",
   "version": "3.12.4"
  }
 },
 "nbformat": 4,
 "nbformat_minor": 5
}
